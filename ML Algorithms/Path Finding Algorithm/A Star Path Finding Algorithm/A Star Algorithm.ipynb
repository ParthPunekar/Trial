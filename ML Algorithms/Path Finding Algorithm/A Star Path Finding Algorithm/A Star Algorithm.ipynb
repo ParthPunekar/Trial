{
 "cells": [
  {
   "cell_type": "code",
   "execution_count": 5,
   "metadata": {},
   "outputs": [],
   "source": [
    "from queue import PriorityQueue"
   ]
  },
  {
   "cell_type": "code",
   "execution_count": 6,
   "metadata": {},
   "outputs": [],
   "source": [
    "class State(object):\n",
    "    def __init__(self, value, parent, start = 0, goal = 0):\n",
    "        self.children = []\n",
    "        self.parent = parent\n",
    "        self.value = value\n",
    "        self.dist = 0\n",
    "        \n",
    "        if parent:\n",
    "            self.path = parent.path[:]\n",
    "            self.path.append(value)\n",
    "            self.start = parent.start\n",
    "            self.goal = parent.goal\n",
    "        else:\n",
    "            self.path = [value]\n",
    "            self.start = start\n",
    "            self.goal = goal\n",
    "    \n",
    "    def getDist(self):\n",
    "        pass\n",
    "    \n",
    "    def createChildren(self):\n",
    "        pass"
   ]
  },
  {
   "cell_type": "code",
   "execution_count": 7,
   "metadata": {},
   "outputs": [],
   "source": [
    "class StateString(State):\n",
    "    def __init__(self, value, parent, start = 0, goal = 0):\n",
    "        super(StateString, self).__init__(value, parent, start, goal)\n",
    "        self.dist = self.getDist()\n",
    "    \n",
    "    def getDist(self):\n",
    "        if self.value == self.goal:\n",
    "            return 0\n",
    "        dist = 0\n",
    "        for i in range(len(self.goal)):\n",
    "            letter = self.goal[i]\n",
    "            dist += abs(i - self.value.index(letter))\n",
    "        return dist\n",
    "    \n",
    "    def createChildren(self):\n",
    "        if not self.children:\n",
    "            for i in range(len(self.goal) - 1):\n",
    "                val = self.value\n",
    "                val = val[:i] + val[i + 1] + val[i] + val[i+2:]\n",
    "                child = StateString(val, self)\n",
    "                self.children.append(child)"
   ]
  },
  {
   "cell_type": "code",
   "execution_count": 8,
   "metadata": {},
   "outputs": [],
   "source": [
    "class AStarSolver:\n",
    "    def __init__(self, start, goal):\n",
    "        self.path = []\n",
    "        self.visitedQueue = []\n",
    "        self.priorityQueue = PriorityQueue()\n",
    "        self.start = start\n",
    "        self.goal = goal\n",
    "        \n",
    "    def Solve(self):\n",
    "        startState = StateString(self.start, 0, self.start, self.goal)\n",
    "        count = 0\n",
    "        self.priorityQueue.put((0, count, startState))\n",
    "        while(not self.path and self.priorityQueue.qsize()):\n",
    "            closestChild = self.priorityQueue.get()[2]\n",
    "            closestChild.createChildren()\n",
    "            self.visitedQueue.append(closestChild.value)\n",
    "            for child in closestChild.children:\n",
    "                if child.value not in self.visitedQueue:\n",
    "                    count += 1\n",
    "                    if not child.dist:\n",
    "                        self.path = child.path\n",
    "                        break\n",
    "                    self.priorityQueue.put((child.dist, count, child))\n",
    "        if not self.path:\n",
    "            print(f'Goal of {self.path} is not possible')\n",
    "        return self.path"
   ]
  },
  {
   "cell_type": "code",
   "execution_count": 20,
   "metadata": {},
   "outputs": [
    {
     "name": "stdout",
     "output_type": "stream",
     "text": [
      "Starting....\n",
      "0. trahp\n",
      "1. tarhp\n",
      "2. tarph\n",
      "3. atrph\n",
      "4. artph\n",
      "5. arpth\n",
      "6. aprth\n",
      "7. parth\n"
     ]
    }
   ],
   "source": [
    "if __name__ == '__main__':\n",
    "    start1 = 'trahp'\n",
    "    goal1 = 'parth'\n",
    "    print('Starting....')\n",
    "    a = AStarSolver(start1, goal1)\n",
    "    a.Solve()\n",
    "    for i in range(len(a.path)):\n",
    "        print(f'{i}. {a.path[i]}')"
   ]
  },
  {
   "cell_type": "code",
   "execution_count": null,
   "metadata": {},
   "outputs": [],
   "source": []
  }
 ],
 "metadata": {
  "kernelspec": {
   "display_name": "Python 3",
   "language": "python",
   "name": "python3"
  },
  "language_info": {
   "codemirror_mode": {
    "name": "ipython",
    "version": 3
   },
   "file_extension": ".py",
   "mimetype": "text/x-python",
   "name": "python",
   "nbconvert_exporter": "python",
   "pygments_lexer": "ipython3",
   "version": "3.8.5"
  }
 },
 "nbformat": 4,
 "nbformat_minor": 4
}
